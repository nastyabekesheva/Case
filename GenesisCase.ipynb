{
 "cells": [
  {
   "attachments": {},
   "cell_type": "markdown",
   "metadata": {},
   "source": [
    "# Import relevant modules"
   ]
  },
  {
   "cell_type": "code",
   "execution_count": 1,
   "metadata": {},
   "outputs": [],
   "source": [
    "import numpy as np\n",
    "import pandas as pd\n",
    "import matplotlib.pyplot as plt\n",
    "import seaborn as sns"
   ]
  },
  {
   "attachments": {},
   "cell_type": "markdown",
   "metadata": {},
   "source": [
    "# Import data"
   ]
  },
  {
   "cell_type": "code",
   "execution_count": 2,
   "metadata": {},
   "outputs": [
    {
     "data": {
      "text/html": [
       "<div>\n",
       "<style scoped>\n",
       "    .dataframe tbody tr th:only-of-type {\n",
       "        vertical-align: middle;\n",
       "    }\n",
       "\n",
       "    .dataframe tbody tr th {\n",
       "        vertical-align: top;\n",
       "    }\n",
       "\n",
       "    .dataframe thead th {\n",
       "        text-align: right;\n",
       "    }\n",
       "</style>\n",
       "<table border=\"1\" class=\"dataframe\">\n",
       "  <thead>\n",
       "    <tr style=\"text-align: right;\">\n",
       "      <th></th>\n",
       "      <th>registration_date</th>\n",
       "      <th>traffic_type</th>\n",
       "      <th>id_partner</th>\n",
       "      <th>age_group</th>\n",
       "      <th>device</th>\n",
       "      <th>country_tier</th>\n",
       "      <th>registrations</th>\n",
       "      <th>users_acqusition_costs</th>\n",
       "      <th>revenue_7_days</th>\n",
       "      <th>logins_1_lt</th>\n",
       "      <th>logins_3_lt</th>\n",
       "      <th>logins_7_lt</th>\n",
       "    </tr>\n",
       "  </thead>\n",
       "  <tbody>\n",
       "    <tr>\n",
       "      <th>0</th>\n",
       "      <td>2021-06-24</td>\n",
       "      <td>Google Search</td>\n",
       "      <td>1</td>\n",
       "      <td>35-</td>\n",
       "      <td>iOS</td>\n",
       "      <td>Tier_1</td>\n",
       "      <td>60</td>\n",
       "      <td>220.0</td>\n",
       "      <td>2.99</td>\n",
       "      <td>5</td>\n",
       "      <td>3</td>\n",
       "      <td>1</td>\n",
       "    </tr>\n",
       "    <tr>\n",
       "      <th>1</th>\n",
       "      <td>2021-09-13</td>\n",
       "      <td>Google Search</td>\n",
       "      <td>1</td>\n",
       "      <td>35-</td>\n",
       "      <td>MacOS</td>\n",
       "      <td>Tier_1</td>\n",
       "      <td>8</td>\n",
       "      <td>0.0</td>\n",
       "      <td>0.00</td>\n",
       "      <td>0</td>\n",
       "      <td>0</td>\n",
       "      <td>0</td>\n",
       "    </tr>\n",
       "    <tr>\n",
       "      <th>2</th>\n",
       "      <td>2021-07-12</td>\n",
       "      <td>Google Search</td>\n",
       "      <td>1</td>\n",
       "      <td>35-55</td>\n",
       "      <td>Android</td>\n",
       "      <td>Tier_1</td>\n",
       "      <td>121</td>\n",
       "      <td>2550.0</td>\n",
       "      <td>225.97</td>\n",
       "      <td>28</td>\n",
       "      <td>19</td>\n",
       "      <td>11</td>\n",
       "    </tr>\n",
       "    <tr>\n",
       "      <th>3</th>\n",
       "      <td>2021-03-26</td>\n",
       "      <td>Google Search</td>\n",
       "      <td>1</td>\n",
       "      <td>35-55</td>\n",
       "      <td>iOS</td>\n",
       "      <td>Tier_1</td>\n",
       "      <td>95</td>\n",
       "      <td>1900.0</td>\n",
       "      <td>351.92</td>\n",
       "      <td>23</td>\n",
       "      <td>9</td>\n",
       "      <td>2</td>\n",
       "    </tr>\n",
       "    <tr>\n",
       "      <th>4</th>\n",
       "      <td>2021-04-26</td>\n",
       "      <td>Google Search</td>\n",
       "      <td>1</td>\n",
       "      <td>35-</td>\n",
       "      <td>Android</td>\n",
       "      <td>Tier_1</td>\n",
       "      <td>51</td>\n",
       "      <td>915.0</td>\n",
       "      <td>256.09</td>\n",
       "      <td>7</td>\n",
       "      <td>2</td>\n",
       "      <td>2</td>\n",
       "    </tr>\n",
       "  </tbody>\n",
       "</table>\n",
       "</div>"
      ],
      "text/plain": [
       "  registration_date   traffic_type  id_partner age_group   device  \\\n",
       "0        2021-06-24  Google Search           1       35-      iOS   \n",
       "1        2021-09-13  Google Search           1       35-    MacOS   \n",
       "2        2021-07-12  Google Search           1     35-55  Android   \n",
       "3        2021-03-26  Google Search           1     35-55      iOS   \n",
       "4        2021-04-26  Google Search           1       35-  Android   \n",
       "\n",
       "  country_tier  registrations  users_acqusition_costs  revenue_7_days  \\\n",
       "0       Tier_1             60                   220.0            2.99   \n",
       "1       Tier_1              8                     0.0            0.00   \n",
       "2       Tier_1            121                  2550.0          225.97   \n",
       "3       Tier_1             95                  1900.0          351.92   \n",
       "4       Tier_1             51                   915.0          256.09   \n",
       "\n",
       "   logins_1_lt  logins_3_lt  logins_7_lt  \n",
       "0            5            3            1  \n",
       "1            0            0            0  \n",
       "2           28           19           11  \n",
       "3           23            9            2  \n",
       "4            7            2            2  "
      ]
     },
     "execution_count": 2,
     "metadata": {},
     "output_type": "execute_result"
    }
   ],
   "source": [
    "df = pd.read_csv('marketing_data-28347077.csv')\n",
    "df.head()"
   ]
  },
  {
   "attachments": {},
   "cell_type": "markdown",
   "metadata": {},
   "source": [
    "# Data preprocessing"
   ]
  },
  {
   "cell_type": "code",
   "execution_count": 10,
   "metadata": {},
   "outputs": [
    {
     "name": "stdout",
     "output_type": "stream",
     "text": [
      "<class 'pandas.core.frame.DataFrame'>\n",
      "RangeIndex: 48248 entries, 0 to 48247\n",
      "Data columns (total 12 columns):\n",
      " #   Column                  Non-Null Count  Dtype  \n",
      "---  ------                  --------------  -----  \n",
      " 0   registration_date       48248 non-null  object \n",
      " 1   traffic_type            48248 non-null  object \n",
      " 2   id_partner              48248 non-null  int64  \n",
      " 3   age_group               48248 non-null  object \n",
      " 4   device                  48248 non-null  object \n",
      " 5   country_tier            48248 non-null  object \n",
      " 6   registrations           48248 non-null  int64  \n",
      " 7   users_acqusition_costs  48248 non-null  float64\n",
      " 8   revenue_7_days          48248 non-null  float64\n",
      " 9   logins_1_lt             48248 non-null  int64  \n",
      " 10  logins_3_lt             48248 non-null  int64  \n",
      " 11  logins_7_lt             48248 non-null  int64  \n",
      "dtypes: float64(2), int64(5), object(5)\n",
      "memory usage: 4.4+ MB\n"
     ]
    }
   ],
   "source": [
    "df.info()"
   ]
  },
  {
   "attachments": {},
   "cell_type": "markdown",
   "metadata": {},
   "source": [
    "## Data cleaning"
   ]
  },
  {
   "attachments": {},
   "cell_type": "markdown",
   "metadata": {},
   "source": [
    "### Check missing values"
   ]
  },
  {
   "cell_type": "code",
   "execution_count": 3,
   "metadata": {},
   "outputs": [
    {
     "data": {
      "text/plain": [
       "True"
      ]
     },
     "execution_count": 3,
     "metadata": {},
     "output_type": "execute_result"
    }
   ],
   "source": [
    "df.isnull().values.any()"
   ]
  },
  {
   "cell_type": "code",
   "execution_count": 5,
   "metadata": {},
   "outputs": [
    {
     "name": "stdout",
     "output_type": "stream",
     "text": [
      "Missing : 2\n"
     ]
    }
   ],
   "source": [
    "missing_values_count = df.isnull().sum()\n",
    "total_missing = missing_values_count.sum() \n",
    "\n",
    "print(f'Missing : {total_missing}')"
   ]
  },
  {
   "attachments": {},
   "cell_type": "markdown",
   "metadata": {},
   "source": [
    "Lets find out where the missing values are."
   ]
  },
  {
   "cell_type": "code",
   "execution_count": 6,
   "metadata": {},
   "outputs": [
    {
     "name": "stdout",
     "output_type": "stream",
     "text": [
      "registration_date         False\n",
      "traffic_type              False\n",
      "id_partner                False\n",
      "age_group                  True\n",
      "device                    False\n",
      "country_tier              False\n",
      "registrations             False\n",
      "users_acqusition_costs    False\n",
      "revenue_7_days            False\n",
      "logins_1_lt               False\n",
      "logins_3_lt               False\n",
      "logins_7_lt               False\n",
      "dtype: bool\n"
     ]
    }
   ],
   "source": [
    "columns_with_missing = df.isna().any()\n",
    "\n",
    "columns_with_missing"
   ]
  },
  {
   "attachments": {},
   "cell_type": "markdown",
   "metadata": {},
   "source": [
    "### Fill missing values\n",
    "Since age_group is basicly a numeric type (not exactly, but its a range of numeric values) we can fill missing values with zeros."
   ]
  },
  {
   "cell_type": "code",
   "execution_count": 7,
   "metadata": {},
   "outputs": [
    {
     "data": {
      "text/plain": [
       "False"
      ]
     },
     "execution_count": 7,
     "metadata": {},
     "output_type": "execute_result"
    }
   ],
   "source": [
    "df = df.fillna(0)\n",
    "df.isnull().values.any()"
   ]
  },
  {
   "attachments": {},
   "cell_type": "markdown",
   "metadata": {},
   "source": [
    "## Data transformation"
   ]
  },
  {
   "attachments": {},
   "cell_type": "markdown",
   "metadata": {},
   "source": [
    "### Dates"
   ]
  },
  {
   "cell_type": "code",
   "execution_count": 11,
   "metadata": {},
   "outputs": [],
   "source": [
    "df['registration_date'] = pd.to_datetime(df['registration_date'])"
   ]
  },
  {
   "attachments": {},
   "cell_type": "markdown",
   "metadata": {},
   "source": [
    "### traffic_type transformation\n",
    "Since we know that there are only 3 values for this column we can safely change its value to some numeric key."
   ]
  },
  {
   "cell_type": "code",
   "execution_count": 14,
   "metadata": {},
   "outputs": [
    {
     "data": {
      "text/plain": [
       "array(['Google Search', 'Facebook', 'Google Media'], dtype=object)"
      ]
     },
     "execution_count": 14,
     "metadata": {},
     "output_type": "execute_result"
    }
   ],
   "source": [
    "unique_values = df['traffic_type'].unique()\n",
    "unique_values"
   ]
  },
  {
   "attachments": {},
   "cell_type": "markdown",
   "metadata": {},
   "source": [
    "Replace values."
   ]
  },
  {
   "cell_type": "code",
   "execution_count": 16,
   "metadata": {},
   "outputs": [
    {
     "data": {
      "text/html": [
       "<div>\n",
       "<style scoped>\n",
       "    .dataframe tbody tr th:only-of-type {\n",
       "        vertical-align: middle;\n",
       "    }\n",
       "\n",
       "    .dataframe tbody tr th {\n",
       "        vertical-align: top;\n",
       "    }\n",
       "\n",
       "    .dataframe thead th {\n",
       "        text-align: right;\n",
       "    }\n",
       "</style>\n",
       "<table border=\"1\" class=\"dataframe\">\n",
       "  <thead>\n",
       "    <tr style=\"text-align: right;\">\n",
       "      <th></th>\n",
       "      <th>registration_date</th>\n",
       "      <th>traffic_type</th>\n",
       "      <th>id_partner</th>\n",
       "      <th>age_group</th>\n",
       "      <th>device</th>\n",
       "      <th>country_tier</th>\n",
       "      <th>registrations</th>\n",
       "      <th>users_acqusition_costs</th>\n",
       "      <th>revenue_7_days</th>\n",
       "      <th>logins_1_lt</th>\n",
       "      <th>logins_3_lt</th>\n",
       "      <th>logins_7_lt</th>\n",
       "    </tr>\n",
       "  </thead>\n",
       "  <tbody>\n",
       "    <tr>\n",
       "      <th>0</th>\n",
       "      <td>2021-06-24</td>\n",
       "      <td>0</td>\n",
       "      <td>1</td>\n",
       "      <td>35-</td>\n",
       "      <td>iOS</td>\n",
       "      <td>Tier_1</td>\n",
       "      <td>60</td>\n",
       "      <td>220.0</td>\n",
       "      <td>2.99</td>\n",
       "      <td>5</td>\n",
       "      <td>3</td>\n",
       "      <td>1</td>\n",
       "    </tr>\n",
       "    <tr>\n",
       "      <th>1</th>\n",
       "      <td>2021-09-13</td>\n",
       "      <td>0</td>\n",
       "      <td>1</td>\n",
       "      <td>35-</td>\n",
       "      <td>MacOS</td>\n",
       "      <td>Tier_1</td>\n",
       "      <td>8</td>\n",
       "      <td>0.0</td>\n",
       "      <td>0.00</td>\n",
       "      <td>0</td>\n",
       "      <td>0</td>\n",
       "      <td>0</td>\n",
       "    </tr>\n",
       "    <tr>\n",
       "      <th>2</th>\n",
       "      <td>2021-07-12</td>\n",
       "      <td>0</td>\n",
       "      <td>1</td>\n",
       "      <td>35-55</td>\n",
       "      <td>Android</td>\n",
       "      <td>Tier_1</td>\n",
       "      <td>121</td>\n",
       "      <td>2550.0</td>\n",
       "      <td>225.97</td>\n",
       "      <td>28</td>\n",
       "      <td>19</td>\n",
       "      <td>11</td>\n",
       "    </tr>\n",
       "    <tr>\n",
       "      <th>3</th>\n",
       "      <td>2021-03-26</td>\n",
       "      <td>0</td>\n",
       "      <td>1</td>\n",
       "      <td>35-55</td>\n",
       "      <td>iOS</td>\n",
       "      <td>Tier_1</td>\n",
       "      <td>95</td>\n",
       "      <td>1900.0</td>\n",
       "      <td>351.92</td>\n",
       "      <td>23</td>\n",
       "      <td>9</td>\n",
       "      <td>2</td>\n",
       "    </tr>\n",
       "    <tr>\n",
       "      <th>4</th>\n",
       "      <td>2021-04-26</td>\n",
       "      <td>0</td>\n",
       "      <td>1</td>\n",
       "      <td>35-</td>\n",
       "      <td>Android</td>\n",
       "      <td>Tier_1</td>\n",
       "      <td>51</td>\n",
       "      <td>915.0</td>\n",
       "      <td>256.09</td>\n",
       "      <td>7</td>\n",
       "      <td>2</td>\n",
       "      <td>2</td>\n",
       "    </tr>\n",
       "    <tr>\n",
       "      <th>...</th>\n",
       "      <td>...</td>\n",
       "      <td>...</td>\n",
       "      <td>...</td>\n",
       "      <td>...</td>\n",
       "      <td>...</td>\n",
       "      <td>...</td>\n",
       "      <td>...</td>\n",
       "      <td>...</td>\n",
       "      <td>...</td>\n",
       "      <td>...</td>\n",
       "      <td>...</td>\n",
       "      <td>...</td>\n",
       "    </tr>\n",
       "    <tr>\n",
       "      <th>48243</th>\n",
       "      <td>2021-01-09</td>\n",
       "      <td>2</td>\n",
       "      <td>6</td>\n",
       "      <td>35-55</td>\n",
       "      <td>Other</td>\n",
       "      <td>Tier_1</td>\n",
       "      <td>15</td>\n",
       "      <td>90.0</td>\n",
       "      <td>0.00</td>\n",
       "      <td>1</td>\n",
       "      <td>1</td>\n",
       "      <td>1</td>\n",
       "    </tr>\n",
       "    <tr>\n",
       "      <th>48244</th>\n",
       "      <td>2021-07-19</td>\n",
       "      <td>2</td>\n",
       "      <td>6</td>\n",
       "      <td>55+</td>\n",
       "      <td>Other</td>\n",
       "      <td>Tier_1</td>\n",
       "      <td>23</td>\n",
       "      <td>65.5</td>\n",
       "      <td>0.00</td>\n",
       "      <td>5</td>\n",
       "      <td>0</td>\n",
       "      <td>2</td>\n",
       "    </tr>\n",
       "    <tr>\n",
       "      <th>48245</th>\n",
       "      <td>2021-02-26</td>\n",
       "      <td>2</td>\n",
       "      <td>6</td>\n",
       "      <td>55+</td>\n",
       "      <td>Other</td>\n",
       "      <td>Tier_1</td>\n",
       "      <td>29</td>\n",
       "      <td>194.0</td>\n",
       "      <td>0.00</td>\n",
       "      <td>2</td>\n",
       "      <td>3</td>\n",
       "      <td>2</td>\n",
       "    </tr>\n",
       "    <tr>\n",
       "      <th>48246</th>\n",
       "      <td>2021-09-22</td>\n",
       "      <td>2</td>\n",
       "      <td>6</td>\n",
       "      <td>35-</td>\n",
       "      <td>Android</td>\n",
       "      <td>Tier_3</td>\n",
       "      <td>6</td>\n",
       "      <td>0.0</td>\n",
       "      <td>0.00</td>\n",
       "      <td>0</td>\n",
       "      <td>0</td>\n",
       "      <td>0</td>\n",
       "    </tr>\n",
       "    <tr>\n",
       "      <th>48247</th>\n",
       "      <td>2021-03-27</td>\n",
       "      <td>2</td>\n",
       "      <td>6</td>\n",
       "      <td>35-55</td>\n",
       "      <td>Android</td>\n",
       "      <td>Tier_2</td>\n",
       "      <td>1</td>\n",
       "      <td>14.0</td>\n",
       "      <td>0.00</td>\n",
       "      <td>0</td>\n",
       "      <td>1</td>\n",
       "      <td>1</td>\n",
       "    </tr>\n",
       "  </tbody>\n",
       "</table>\n",
       "<p>48248 rows × 12 columns</p>\n",
       "</div>"
      ],
      "text/plain": [
       "      registration_date  traffic_type  id_partner age_group   device  \\\n",
       "0            2021-06-24             0           1       35-      iOS   \n",
       "1            2021-09-13             0           1       35-    MacOS   \n",
       "2            2021-07-12             0           1     35-55  Android   \n",
       "3            2021-03-26             0           1     35-55      iOS   \n",
       "4            2021-04-26             0           1       35-  Android   \n",
       "...                 ...           ...         ...       ...      ...   \n",
       "48243        2021-01-09             2           6     35-55    Other   \n",
       "48244        2021-07-19             2           6       55+    Other   \n",
       "48245        2021-02-26             2           6       55+    Other   \n",
       "48246        2021-09-22             2           6       35-  Android   \n",
       "48247        2021-03-27             2           6     35-55  Android   \n",
       "\n",
       "      country_tier  registrations  users_acqusition_costs  revenue_7_days  \\\n",
       "0           Tier_1             60                   220.0            2.99   \n",
       "1           Tier_1              8                     0.0            0.00   \n",
       "2           Tier_1            121                  2550.0          225.97   \n",
       "3           Tier_1             95                  1900.0          351.92   \n",
       "4           Tier_1             51                   915.0          256.09   \n",
       "...            ...            ...                     ...             ...   \n",
       "48243       Tier_1             15                    90.0            0.00   \n",
       "48244       Tier_1             23                    65.5            0.00   \n",
       "48245       Tier_1             29                   194.0            0.00   \n",
       "48246       Tier_3              6                     0.0            0.00   \n",
       "48247       Tier_2              1                    14.0            0.00   \n",
       "\n",
       "       logins_1_lt  logins_3_lt  logins_7_lt  \n",
       "0                5            3            1  \n",
       "1                0            0            0  \n",
       "2               28           19           11  \n",
       "3               23            9            2  \n",
       "4                7            2            2  \n",
       "...            ...          ...          ...  \n",
       "48243            1            1            1  \n",
       "48244            5            0            2  \n",
       "48245            2            3            2  \n",
       "48246            0            0            0  \n",
       "48247            0            1            1  \n",
       "\n",
       "[48248 rows x 12 columns]"
      ]
     },
     "execution_count": 16,
     "metadata": {},
     "output_type": "execute_result"
    }
   ],
   "source": [
    "df['traffic_type'] = df['traffic_type'].replace('Google Search', 0)\n",
    "df['traffic_type'] = df['traffic_type'].replace('Facebook', 1)\n",
    "df['traffic_type'] = df['traffic_type'].replace('Google Media', 2)\n",
    "df"
   ]
  },
  {
   "attachments": {},
   "cell_type": "markdown",
   "metadata": {},
   "source": [
    "# Data visualization"
   ]
  }
 ],
 "metadata": {
  "kernelspec": {
   "display_name": "cvxpy_env",
   "language": "python",
   "name": "python3"
  },
  "language_info": {
   "codemirror_mode": {
    "name": "ipython",
    "version": 3
   },
   "file_extension": ".py",
   "mimetype": "text/x-python",
   "name": "python",
   "nbconvert_exporter": "python",
   "pygments_lexer": "ipython3",
   "version": "3.10.8"
  },
  "orig_nbformat": 4
 },
 "nbformat": 4,
 "nbformat_minor": 2
}
